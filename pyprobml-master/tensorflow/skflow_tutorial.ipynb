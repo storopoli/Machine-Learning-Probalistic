{
 "cells": [
  {
   "cell_type": "code",
   "execution_count": 106,
   "metadata": {
    "collapsed": true
   },
   "outputs": [],
   "source": [
    "# import some libraries\n",
    "%matplotlib inline  \n",
    "import numpy as np\n",
    "import tensorflow as tf\n",
    "import tensorflow.contrib.learn as skflow\n",
    "import sklearn\n",
    "import matplotlib.pyplot as plt"
   ]
  },
  {
   "cell_type": "code",
   "execution_count": 84,
   "metadata": {
    "collapsed": false
   },
   "outputs": [
    {
     "name": "stdout",
     "output_type": "stream",
     "text": [
      "Ntrain=800, Ntest=200, Nfeatures=10, Nclasses=2\n"
     ]
    }
   ],
   "source": [
    "# Load a dataset\n",
    "\n",
    "#data = 'iris'\n",
    "#data = 'digits'\n",
    "#data = 'mnist'\n",
    "data = 'hastie' # synthetic dataset, hard enough to ilustrate differences clearly\n",
    "\n",
    "if data == 'iris':\n",
    "    iris = sklearn.datasets.load_iris()\n",
    "    X = iris.data\n",
    "    y = iris.target\n",
    "elif digits == 'digits':\n",
    "    digits = sklearn.datasets.load_digits()\n",
    "    # This is not MNIST, but a smaller dataset of 1797 instances of\n",
    "    # 8x8 images with integer pixels in the range 0..16.\n",
    "    #http://archive.ics.uci.edu/ml/datasets/Optical+Recognition+of+Handwritten+Digits\n",
    "    N = digits.images.shape[0]\n",
    "    X = np.reshape(digits.images, [N, 8*8])\n",
    "    y = digits.target\n",
    "elif data == 'mnist':\n",
    "    from tensorflow.examples.tutorials.mnist import input_data\n",
    "    mnist = input_data.read_data_sets(\"/tmp/data/\", one_hot=False)\n",
    "    # mnist.{train, validation, test}.{images, labels}\n",
    "    # The images are N * 784 in size\n",
    "    # Train: 55k, valid: 5k, test: 10k\n",
    "    # For speed, we just use a small subset of 1000 examples.\n",
    "    indices = np.random.choice(55000, 5000)\n",
    "    X = mnist.train.images[indices,:]\n",
    "    y = mnist.train.labels[indices]\n",
    "elif data == 'hastie':\n",
    "    sklearn.datasets.make_hastie_10_2(n_samples=1000, random_state=42)\n",
    "    X, y = sklearn.datasets.make_hastie_10_2(n_samples=1000, random_state=42)\n",
    "    # switch from -1,1 to 0,1\n",
    "    ndx = (y == -1)\n",
    "    y[ndx] = 0\n",
    "else:\n",
    "    raise ValueError('unknown dataset {}'.format(data))\n",
    "    \n",
    "X_train, X_test, y_train, y_test = sklearn.cross_validation.train_test_split(X, y, test_size=0.2, random_state=42)\n",
    "n_classes = len(np.unique(y))\n",
    "print 'Ntrain={}, Ntest={}, Nfeatures={}, Nclasses={}'.format(\n",
    "        X_train.shape[0], X_test.shape[0], X_train.shape[1], n_classes)\n"
   ]
  },
  {
   "cell_type": "code",
   "execution_count": 85,
   "metadata": {
    "collapsed": false
   },
   "outputs": [
    {
     "name": "stdout",
     "output_type": "stream",
     "text": [
      "training accuracy 0.57\n",
      "testing accuracy 0.575\n"
     ]
    }
   ],
   "source": [
    "# Fit logistic regression model using standard sklearn (batch training using BFGS)\n",
    "from sklearn.linear_model import LogisticRegression\n",
    "model = LogisticRegression(C=1e5) # turn off regularization\n",
    "model.fit(X_train, y_train)\n",
    "\n",
    "# Function to compute train and test error.\n",
    "def eval(model):\n",
    "    acc = sklearn.metrics.accuracy_score(y_train, model.predict(X_train))\n",
    "    print 'training accuracy {}'.format(acc)\n",
    "    acc = sklearn.metrics.accuracy_score(y_test, model.predict(X_test))\n",
    "    print 'testing accuracy {}'.format(acc)\n",
    "\n",
    "# Let's evaluate the model.\n",
    "eval(model)"
   ]
  },
  {
   "cell_type": "code",
   "execution_count": 87,
   "metadata": {
    "collapsed": false
   },
   "outputs": [
    {
     "name": "stdout",
     "output_type": "stream",
     "text": [
      "Step #100, epoch #4, avg. train loss: 0.70135\n",
      "Step #200, epoch #8, avg. train loss: 0.69714\n",
      "training accuracy 0.5775\n",
      "testing accuracy 0.57\n"
     ]
    }
   ],
   "source": [
    "# Now try using skflow (online training using SGD)\n",
    "from tensorflow.python.framework import random_seed\n",
    "seed = 42\n",
    "model = skflow.TensorFlowLinearClassifier(n_classes=n_classes)\n",
    "random_seed.set_random_seed(seed)\n",
    "model.fit(X_train, y_train)\n",
    "eval(model)"
   ]
  },
  {
   "cell_type": "code",
   "execution_count": 89,
   "metadata": {
    "collapsed": false
   },
   "outputs": [
    {
     "name": "stdout",
     "output_type": "stream",
     "text": [
      "weights [[ 0.00347729 -0.00347726]\n",
      " [-0.00836525  0.00836527]\n",
      " [-0.01994835  0.01994838]\n",
      " [ 0.01383986 -0.01383988]\n",
      " [-0.01960176  0.01960175]\n",
      " [ 0.00474693 -0.00474694]\n",
      " [-0.02187933  0.02187933]\n",
      " [-0.03824039  0.03824043]\n",
      " [ 0.00658222 -0.00658221]\n",
      " [-0.01298285  0.01298286]], bias [ 0.0557811  -0.05578107]\n"
     ]
    }
   ],
   "source": [
    "# Let's examine the resulting parameters\n",
    "print 'weights {}, bias {}'.format(model.weights_, model.bias_)"
   ]
  },
  {
   "cell_type": "code",
   "execution_count": 122,
   "metadata": {
    "collapsed": false
   },
   "outputs": [
    {
     "name": "stdout",
     "output_type": "stream",
     "text": [
      "Step #100, epoch #7, avg. train loss: 0.50513\n",
      "Step #200, epoch #15, avg. train loss: 0.24947\n",
      "training accuracy 0.975550122249\n",
      "testing accuracy 0.81\n"
     ]
    }
   ],
   "source": [
    "# Now try fitting an MLP.\n",
    "# Training and testing accuracy is higher than with linear model.\n",
    "# But testing accuracy is lower than training accuracy, indicating overfitting.\n",
    "hidden_units = [20, 20, 20]\n",
    "model = skflow.TensorFlowDNNClassifier(hidden_units=hidden_units, n_classes=n_classes)\n",
    "random_seed.set_random_seed(seed)\n",
    "model.fit(X_train, y_train)\n",
    "eval(model)    "
   ]
  },
  {
   "cell_type": "code",
   "execution_count": 110,
   "metadata": {
    "collapsed": false
   },
   "outputs": [
    {
     "name": "stdout",
     "output_type": "stream",
     "text": [
      "layer 0 weights (10, 20), bias (20,)\n",
      "layer 1 weights (20, 20), bias (20,)\n",
      "layer 2 weights (20, 20), bias (20,)\n",
      "layer 3 weights (20, 2), bias (2,)\n"
     ]
    }
   ],
   "source": [
    "# Print the size of each layer (can only do this after model fitting, since variables need to be initialized)\n",
    "n_layers = len(model.hidden_units)+1\n",
    "for l in range(n_layers):\n",
    "    print 'layer {} weights {}, bias {}'.format(l, model.weights_[l].shape, model.bias_[l].shape)\n"
   ]
  },
  {
   "cell_type": "code",
   "execution_count": 135,
   "metadata": {
    "collapsed": false
   },
   "outputs": [
    {
     "name": "stdout",
     "output_type": "stream",
     "text": [
      "Step #100, epoch #7, avg. train loss: 0.67869\n",
      "Step #200, epoch #15, avg. train loss: 0.64630\n"
     ]
    },
    {
     "data": {
      "text/plain": [
       "TensorFlowEstimator(batch_size=32, class_weight=None, clip_gradients=5.0,\n",
       "          config=None, continue_training=False, learning_rate=0.1,\n",
       "          model_fn=<function my_model at 0x121fdab90>, n_classes=2,\n",
       "          optimizer='Adagrad', steps=200, verbose=1)"
      ]
     },
     "execution_count": 135,
     "metadata": {},
     "output_type": "execute_result"
    }
   ],
   "source": [
    "# Log some data while training, then display it in tensorboard\n",
    "model.fit(X_train, y_train, logdir=\"/tmp/data/my_model\")\n",
    "\n",
    "# Use this command to visualize results\n",
    "#tensorboard --logdir=/tmp/data/my_model"
   ]
  },
  {
   "cell_type": "code",
   "execution_count": 140,
   "metadata": {
    "collapsed": false
   },
   "outputs": [
    {
     "name": "stdout",
     "output_type": "stream",
     "text": [
      "Step #100, epoch #7, avg. train loss: 0.67869\n",
      "Step #200, epoch #15, avg. train loss: 0.64630\n",
      "training accuracy 0.545232273839\n",
      "testing accuracy 0.49\n"
     ]
    }
   ],
   "source": [
    "# Example of how to fit a \"custom\" model.\n",
    "# We'll use an MLP with dropout, to reduce overfitting. \n",
    "# With dropout probability of 0.5, we underfit significantly.\n",
    "def my_model(X, y, dropout=0.5):\n",
    "    layers = skflow.ops.dnn(X, hidden_units, dropout=dropout)\n",
    "    return skflow.models.logistic_regression(layers, y)\n",
    "\n",
    "model = skflow.TensorFlowEstimator(model_fn=my_model, n_classes=n_classes)\n",
    "random_seed.set_random_seed(seed)\n",
    "model.fit(X_train, y_train)\n",
    "eval(model)"
   ]
  },
  {
   "cell_type": "code",
   "execution_count": 134,
   "metadata": {
    "collapsed": false
   },
   "outputs": [
    {
     "name": "stdout",
     "output_type": "stream",
     "text": [
      "output layer, weights (20, 2), bias (2,)\n",
      "layer 0, weights (10, 20), bias (20,)\n",
      "layer 1, weights (20, 20), bias (20,)\n",
      "layer 2, weights (20, 20), bias (20,)\n"
     ]
    }
   ],
   "source": [
    "# Example of how to access the parameters of a custom model.\n",
    "weights = model.get_tensor_value('logistic_regression/weights:0')\n",
    "bias = model.get_tensor_value('logistic_regression/bias:0')\n",
    "print 'output layer, weights {}, bias {}'.format(weights.shape, bias.shape)\n",
    "\n",
    "for l in range(n_layers-1):\n",
    "    # By looking at tensorflow/contrib/learn/python/learn/ops/dnn_ops.py,\n",
    "    # and tensorflow/python/ops/rnn_cell.py, we can figure out the names:\n",
    "    weights = model.get_tensor_value('dnn/layer{}/Linear/Matrix:0'.format(l))\n",
    "    bias = model.get_tensor_value('dnn/layer{}/Linear/Bias:0'.format(l))\n",
    "    print 'layer {}, weights {}, bias {}'.format(l, weights.shape, bias.shape)"
   ]
  },
  {
   "cell_type": "code",
   "execution_count": 39,
   "metadata": {
    "collapsed": false
   },
   "outputs": [],
   "source": [
    "# Let's use grid search (plus cross validation) to estimate the \"optimal\" degree of dropout.\n",
    "from sklearn.grid_search import GridSearchCV\n",
    "hyper_params = [{'dropout': [0.1, 0.5, 0.9]}]\n",
    "def make_model():\n",
    "    model = skflow.TensorFlowEstimator(model_fn=my_model, n_classes=n_classes)\n",
    "clf = GridSearchCV(make_model(), hyper_params, cv=5, scoring=metrics.accuracy_score)\n",
    "\n",
    "# How can we do this??"
   ]
  },
  {
   "cell_type": "code",
   "execution_count": 116,
   "metadata": {
    "collapsed": false
   },
   "outputs": [
    {
     "name": "stdout",
     "output_type": "stream",
     "text": [
      "Step #100, epoch #7, avg. train loss: 0.50513, avg. val loss: 0.58590\n",
      "Step #200, epoch #15, avg. train loss: 0.24947, avg. val loss: 0.48592\n",
      "Step #300, epoch #23, avg. train loss: 0.11907, avg. val loss: 0.48816\n",
      "Step #400, epoch #30, avg. train loss: 0.04776, avg. val loss: 0.54411\n",
      "training accuracy 1.0\n",
      "testing accuracy 0.805\n"
     ]
    },
    {
     "name": "stderr",
     "output_type": "stream",
     "text": [
      "Stopping. Best step:\n",
      " step 214 with loss 0.404317826033\n"
     ]
    }
   ],
   "source": [
    "# Let's use early stopping as an alternative form of regularization.\n",
    "X_train, X_val, y_train, y_val = sklearn.cross_validation.train_test_split(X_train, y_train,\n",
    "                                                  test_size=0.2, random_state=42)\n",
    "val_monitor = skflow.monitors.ValidationMonitor(X_val, y_val,\n",
    "                                                print_steps=100,\n",
    "                                                early_stopping_rounds=200,\n",
    "                                                n_classes=n_classes)\n",
    "model = skflow.TensorFlowDNNClassifier(hidden_units=hidden_units, n_classes=n_classes, steps=1000)\n",
    "random_seed.set_random_seed(seed)\n",
    "model.fit(X_train, y_train, val_monitor)\n",
    "eval(model)"
   ]
  },
  {
   "cell_type": "code",
   "execution_count": 117,
   "metadata": {
    "collapsed": false
   },
   "outputs": [
    {
     "data": {
      "text/plain": [
       "<matplotlib.text.Text at 0x121abdd50>"
      ]
     },
     "execution_count": 117,
     "metadata": {},
     "output_type": "execute_result"
    },
    {
     "data": {
      "image/png": "[encoded data removed]",
      "text/plain": [
       "<matplotlib.figure.Figure at 0x1156ab710>"
      ]
     },
     "metadata": {},
     "output_type": "display_data"
    }
   ],
   "source": [
    "# Let's plot the training and validation loss\n",
    "plt.figure\n",
    "plt.plot(val_monitor.all_train_loss_buffer)\n",
    "plt.plot(val_monitor.all_val_loss_buffer)\n",
    "#plt.show()\n",
    "plt.legend(['train', 'validation'])\n",
    "plt.title('log loss (cross entropy)')"
   ]
  },
  {
   "cell_type": "code",
   "execution_count": 118,
   "metadata": {
    "collapsed": false
   },
   "outputs": [
    {
     "name": "stdout",
     "output_type": "stream",
     "text": [
      "Step #100, epoch #7, avg. train loss: 0.60915\n",
      "Step #200, epoch #15, avg. train loss: 0.60123\n",
      "Step #300, epoch #23, avg. train loss: 0.59988\n",
      "Step #400, epoch #30, avg. train loss: 0.60095\n",
      "Step #500, epoch #38, avg. train loss: 0.60090\n",
      "Step #600, epoch #46, avg. train loss: 0.60122\n",
      "Step #700, epoch #53, avg. train loss: 0.60035\n",
      "Step #800, epoch #61, avg. train loss: 0.60067\n",
      "Step #900, epoch #69, avg. train loss: 0.60084\n",
      "Step #1000, epoch #76, avg. train loss: 0.60070\n",
      "training accuracy 0.735941320293\n",
      "testing accuracy 0.68\n"
     ]
    }
   ],
   "source": [
    "# Example of how to tweak the optimizer (here, by changing learning rate).\n",
    "def exp_decay(global_step):\n",
    "    return tf.train.exponential_decay(\n",
    "        learning_rate=0.1, global_step=global_step,\n",
    "        decay_steps=100, decay_rate=0.001)\n",
    "\n",
    "model = skflow.TensorFlowDNNClassifier(hidden_units=hidden_units,\n",
    "                                            n_classes=n_classes, steps=1000,\n",
    "                                            optimizer=\"Adagrad\",\n",
    "                                            learning_rate=exp_decay)\n",
    "\n",
    "random_seed.set_random_seed(seed)\n",
    "model.fit(X_train, y_train)\n",
    "eval(model)"
   ]
  },
  {
   "cell_type": "code",
   "execution_count": 139,
   "metadata": {
    "collapsed": false
   },
   "outputs": [
    {
     "name": "stdout",
     "output_type": "stream",
     "text": [
      "Step #100, epoch #7, avg. train loss: 0.50513\n",
      "Step #200, epoch #15, avg. train loss: 0.24947\n",
      "training accuracy 0.975550122249\n",
      "testing accuracy 0.81\n",
      "training accuracy 0.975550122249\n",
      "testing accuracy 0.81\n"
     ]
    }
   ],
   "source": [
    "# Example of how to save and load a model.\n",
    "import shutil\n",
    "\n",
    "model = skflow.TensorFlowDNNClassifier(hidden_units=hidden_units, n_classes=n_classes)\n",
    "random_seed.set_random_seed(seed)\n",
    "model.fit(X_train, y_train)\n",
    "eval(model)\n",
    "     \n",
    "# Clean checkpoint folder if exists\n",
    "folder = '/tmp/skflow_examples/model'\n",
    "try:\n",
    "    shutil.rmtree(folder)\n",
    "except OSError:\n",
    "    pass\n",
    "\n",
    "# Save model, parameters and learned variables.\n",
    "model.save(folder)\n",
    "model = None\n",
    "\n",
    "## Restore everything\n",
    "new_model = skflow.TensorFlowEstimator.restore(folder)\n",
    "eval(new_model)"
   ]
  },
  {
   "cell_type": "code",
   "execution_count": 123,
   "metadata": {
    "collapsed": false
   },
   "outputs": [
    {
     "name": "stdout",
     "output_type": "stream",
     "text": [
      "Step #100, epoch #7, avg. train loss: 0.50420\n",
      "Step #200, epoch #15, avg. train loss: 0.24613\n",
      "training accuracy 0.982885085575\n",
      "testing accuracy 0.805\n"
     ]
    }
   ],
   "source": [
    "# Example of how to chain together a preprocessor and skflow model.\n",
    "from sklearn.preprocessing import StandardScaler\n",
    "from sklearn.pipeline import Pipeline\n",
    "scaler = StandardScaler()  # Standardizing the data can often help SGD.\n",
    "\n",
    "DNNclassifier = skflow.TensorFlowDNNClassifier(hidden_units=hidden_units, n_classes=n_classes)\n",
    "\n",
    "model = Pipeline([('scaler', scaler), ('DNNclassifier', DNNclassifier)])\n",
    "random_seed.set_random_seed(seed)\n",
    "model.fit(X_train, y_train)\n",
    "eval(model)"
   ]
  },
  {
   "cell_type": "code",
   "execution_count": null,
   "metadata": {
    "collapsed": true
   },
   "outputs": [],
   "source": []
  }
 ],
 "metadata": {
  "kernelspec": {
   "display_name": "Python 2",
   "language": "python",
   "name": "python2"
  },
  "language_info": {
   "codemirror_mode": {
    "name": "ipython",
    "version": 2
   },
   "file_extension": ".py",
   "mimetype": "text/x-python",
   "name": "python",
   "nbconvert_exporter": "python",
   "pygments_lexer": "ipython2",
   "version": "2.7.10"
  }
 },
 "nbformat": 4,
 "nbformat_minor": 0
}
