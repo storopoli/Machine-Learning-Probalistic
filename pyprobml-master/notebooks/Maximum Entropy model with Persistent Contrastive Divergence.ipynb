{
  "nbformat": 4,
  "nbformat_minor": 0,
  "metadata": {
    "colab": {
      "version": "0.3.2",
      "views": {},
      "default_view": {},
      "name": "Fitting MaxEnt models via persistent contrastive divergence",
      "provenance": [
        {
          "file_id": "0B99p0KvCr0FTX2hYdFRzQ2tTOUU",
          "timestamp": 1457490307613
        }
      ]
    }
  },
  "cells": [
    {
      "cell_type": "markdown",
      "metadata": {
        "id": "6dHNH184MplP",
        "colab_type": "text"
      },
      "source": [
	    "Authored by: Patrick Mineault",
		"\n\n",
		"http://xcorr.net/",
		"\n\n",
        "Our aim is to fit a maximum entropy model for strings. We could use this to:\n",
        "\n",
        "  - Model spelling / create a spell-checker\n",
        "  - Generate fake words / RhymeMaster 3000\n",
        "  - Do computational linguistics\n",
        "\n",
        "Maximum entropy models are generative models of exponential form:\n",
        "\n",
        "$p(x|\\theta) =  \\frac {1}{Z(\\theta)} \\exp(\\phi(x)^T \\theta )$\n",
        "\n",
        "Where $Z(\\theta)$ is a normalization constant:\n",
        "\n",
        "$Z(\\theta) = \\int \\exp( \\phi(x)^T \\theta ) dx$\n",
        "\n",
        "The gradient of the log-likelihood will be:\n",
        "\n",
        "$\\nabla L \\equiv \\frac{\\partial \\log p(x|\\theta)}{\\partial \\theta} =  \\phi(x)^T \\theta - \\frac{ \\partial \\log(Z(\\theta)) } { \\partial \\theta}$\n",
        "\n",
        "Taking the partial derivative in the second expression, we find:\n",
        "\n",
        "$\\nabla L = \\phi(x)^T \\theta - \\mathbb{E} (\\phi(x))$\n",
        "\n",
        "The expected value on the right hand side is tricky to evaluate. The idea behind contrastive divergence and variants is to compute the expectation in this expression via several independent Markov chains. *Persistent* constrastive divergence means that we won't reset our Markov chains between gradient descent iterations -- although the distribution we need to sample from changes between GD iterations, it changes very slowly. One can prove mathematically that sampling this way converges to the correct ML estimate.\n",
        "\n",
        "For illustrative purposes, we'll limit our attention to sampling from fixed length strings -- sampling from non-fixed length strings is more annoying, but not necessarily more informative."
      ]
    },
    {
      "cell_type": "markdown",
      "metadata": {
        "id": "p83zKdZHg0KP",
        "colab_type": "text"
      },
      "source": [
        "# Sampling from fixed-length strings\n",
        "\n",
        "Let's start by creating a sampler over fixed-length strings. We will use a Metropolis-Hastings (MH) proposal within a Gibbs sampler. What this means:\n",
        "\n",
        "  - Gibbs: resample one character at a time at each iteration\n",
        "  - MH: sample a tokeb from a proposal distribution and adjust based on the density function\n",
        "    - Important life lesson: code the MH sampler on a log scale otherwise numerical problems ensue.\n",
        "  \n",
        "Let's do this a dummy density function and verify that we're sampling from the right distribution -- it's very easy to mess up and sample from the wrong distro. Don't do it!"
      ]
    },
    {
      "cell_type": "code",
      "metadata": {
        "id": "7LLOV3ngxxFu",
        "colab_type": "code",
        "colab": {
          "autoexec": {
            "startup": false,
            "wait_interval": 0
          },
          "output_extras": []
        },
        "cellView": "both",
        "executionInfo": {
          "status": "ok",
          "timestamp": 1457681318876,
          "user_tz": 480,
          "elapsed": 843,
          "user": {
            "sessionId": "ab1f0339c96f28e",
            "userId": "103444865736961301998",
            "permissionId": "00759584880725894106",
            "displayName": "Patrick Mineault",
            "color": "#1FA15D",
            "isMe": true,
            "isAnonymous": false,
            "photoUrl": "//lh3.googleusercontent.com/-CdPTZM1TPbU/AAAAAAAAAAI/AAAAAAAAABQ/MOmbIGKtlQA/s50-c-k-no/photo.jpg"
          }
        },
        "outputId": "9c98dd8c-7f6c-4f8e-8f6d-ca9b0e3cbd56"
      },
      "source": [
        "import itertools\n",
        "import numpy as np\n",
        "import collections\n",
        "\n",
        "class FixedLengthGMHMC:\n",
        "  \"\"\"Fixed-length string Gibbs-sampling Metropolis-Hastings Markov chain. \n",
        "  This class samples from a distribution over string variables of length str_len. \n",
        "  It only works on ASCII (or ISO-8859-1).\n",
        "  It does that by Gibbs sampling, one character at a time. It uses Metropolis \n",
        "  Hastings to sample from the marginal distribution of the next character using \n",
        "  a proposal distribution log_proposal_dist. The Q function is density_fun. \n",
        "  \"\"\"\n",
        "  def __init__(self, \n",
        "               str_len,\n",
        "               proposal_dist,  # For individual letter\n",
        "               log_density_fun):\n",
        "    self.proposal_dist = proposal_dist\n",
        "    self.log_density_fun = log_density_fun\n",
        "    self.str_len = str_len\n",
        "    \n",
        "    self.num_accepted = 0\n",
        "    self.num_tried = 0\n",
        "    \n",
        "  def take_first_sample(self):\n",
        "    # Take a sample from the proposal distribution to start with\n",
        "    chars = []\n",
        "    for i in range(self.str_len):\n",
        "      chars.append(chr(\n",
        "        np.where(np.random.multinomial(1, self.proposal_dist))[0]))\n",
        "    \n",
        "    chars = ''.join(chars)\n",
        "    self.last_sample = chars\n",
        "    self.last_sample_log_density = self.log_density_fun(chars)\n",
        "  \n",
        "  def sample(self):\n",
        "    # Take a sample from the conditional distribution of the \n",
        "    # str_pos character via MH\n",
        "    # Pick which character to resample at random\n",
        "    str_pos = np.int(np.random.rand()*self.str_len)\n",
        "    \n",
        "    # Sample a char from the proposal distribution\n",
        "    new_char = chr(np.where(np.random.multinomial(1, self.proposal_dist))[0])\n",
        "    \n",
        "    # Splice it in\n",
        "    new_sample = (self.last_sample[:str_pos] + \n",
        "                  new_char + \n",
        "                  self.last_sample[str_pos+1:])\n",
        "    \n",
        "    new_sample_log_density = self.log_density_fun(new_sample)\n",
        "    \n",
        "    # We're doing everything on the log scale for numerical stability\n",
        "    alpha1 = np.exp(new_sample_log_density - self.last_sample_log_density)\n",
        "    \n",
        "    # Q(x | x') / Q(x' | x)\n",
        "    old_char = self.last_sample[str_pos]\n",
        "    alpha2 = (self.proposal_dist[ord(old_char)] / \n",
        "              self.proposal_dist[ord(new_char)])\n",
        "    \n",
        "    # Acceptance ratio\n",
        "    alpha = min(alpha1*alpha2, 1.0)\n",
        "    \n",
        "    # Draw a binomial sample to decide whether to accept\n",
        "    accept = np.random.rand() < alpha\n",
        "    \n",
        "    if accept:\n",
        "      self.last_sample = new_sample\n",
        "      self.last_sample_log_density = new_sample_log_density\n",
        "      self.num_accepted += 1\n",
        "    \n",
        "    self.num_tried += 1"
      ],
      "outputs": [],
      "execution_count": 0
    },
    {
      "cell_type": "code",
      "metadata": {
        "id": "lqZnawsf1HjY",
        "colab_type": "code",
        "colab": {
          "autoexec": {
            "startup": false,
            "wait_interval": 0
          },
          "output_extras": [
            {
              "item_id": 1
            }
          ]
        },
        "cellView": "both",
        "executionInfo": {
          "status": "ok",
          "timestamp": 1457681363139,
          "user_tz": 480,
          "elapsed": 1014,
          "user": {
            "sessionId": "ab1f0339c96f28e",
            "userId": "103444865736961301998",
            "permissionId": "00759584880725894106",
            "displayName": "Patrick Mineault",
            "color": "#1FA15D",
            "isMe": true,
            "isAnonymous": false,
            "photoUrl": "//lh3.googleusercontent.com/-CdPTZM1TPbU/AAAAAAAAAAI/AAAAAAAAABQ/MOmbIGKtlQA/s50-c-k-no/photo.jpg"
          }
        },
        "outputId": "e837aeea-d2e5-43b7-f105-f3085d606332"
      },
      "source": [
        "# Test out the sampler on an example density on the letters \n",
        "# ABab\n",
        "def sample_log_density(arr):\n",
        "  # Is the initial letter an uppercase letter?\n",
        "  phi0 = (arr[0] == 'A' or \n",
        "          arr[0] == 'B')\n",
        "  \n",
        "  # Does the second letter follow the first letter? e.g. 'ab'\n",
        "  phi1 = ord(arr[1]) - ord(arr[0]) == 1\n",
        "  \n",
        "  return phi0 * 1.0 + phi1 * 1.5\n",
        "\n",
        "# Compute the probability of every length 2 string containing the characters\n",
        "# abAB\n",
        "charset = 'abAB'\n",
        "str_len = 2\n",
        "\n",
        "ps = {}\n",
        "for the_str in itertools.product(charset, repeat=str_len):\n",
        "  the_str = the_str[0] + the_str[1]\n",
        "  ps[the_str] = np.exp(sample_log_density(the_str))\n",
        "    \n",
        "# Create a non-uniform proposal distribution, because subtle bugs can lurk \n",
        "# in the way we've coded up Q(x|x') / Q(x'|x)\n",
        "proposal_distro = [(chr(x) in charset) / (1.0 + float(x)) for x in range(128)]\n",
        "proposal_distro = [x / sum(proposal_distro) for x in proposal_distro]\n",
        "sampler = FixedLengthGMHMC(str_len, proposal_distro, sample_log_density)\n",
        "sampler.take_first_sample()\n",
        "\n",
        "samples = []\n",
        "# Take some samples\n",
        "for i in range(10000):\n",
        "  sampler.sample()\n",
        "  samples.append(sampler.last_sample)\n",
        "\n",
        "# Look at empirical distribution of samples\n",
        "cnt = collections.Counter(samples)\n",
        "\n",
        "# Concatenate the results\n",
        "distros = np.array([[y, cnt[x]] for x, y in ps.iteritems()])\n",
        "\n",
        "# Normalize\n",
        "distros = distros / distros.sum(0).reshape((1,-1))\n",
        "\n",
        "print 'String | Exact p(x)*1000 | Sample p(x)*1000'\n",
        "print '\\n'.join(['%s        % 8d         % 8d' % (x, y[0], y[1]) for x, y in \n",
        "                 zip(ps.keys(), np.round(distros*1000))])\n",
        "\n",
        "max_rel_disc = max(abs(.5 * (distros[:,0] - distros[:,1]) / \n",
        "                       (distros[:,0] + distros[:,1])))\n",
        "\n",
        "print 'Max relative discrepancy: %.3f' % max_rel_disc\n",
        "\n",
        "# relative discrepancy should not be much higher than 6%\n",
        "assert( max_rel_disc < .06)\n",
        "\n",
        "print ('Acceptance probability: %.3f' % (sampler.num_accepted / \n",
        "  float(sampler.num_tried)))\n",
        "\n",
        "# That looks good."
      ],
      "outputs": [
        {
          "output_type": "stream",
          "text": [
            "String | Exact p(x)*1000 | Sample p(x)*1000\n",
            "Ba              64               60\n",
            "BA              64               64\n",
            "bA              23               22\n",
            "aa              23               22\n",
            "bB              23               24\n",
            "Ab              64               63\n",
            "AB             285              287\n",
            "ba              23               22\n",
            "bb              23               25\n",
            "Aa              64               59\n",
            "AA              64               65\n",
            "BB              64               67\n",
            "ab             105              106\n",
            "aA              23               24\n",
            "Bb              64               65\n",
            "aB              23               24\n",
            "Max relative discrepancy: 0.020\n",
            "Acceptance probability: 0.728\n"
          ],
          "name": "stdout"
        }
      ],
      "execution_count": 0
    },
    {
      "cell_type": "markdown",
      "metadata": {
        "id": "Ypf_jz8s15Rx",
        "colab_type": "text"
      },
      "source": [
        "#Persistent contrastive divergence to estimate parameter values \n",
        "\n",
        "PCD is an algorithm for maximum likelihood estimation of MaxEnt models. It's essentially gradient descent with a twist: the gradient of a MaxEnt model includes a term corresponding to an expected value wrt. the distribution to be fitted. This value is approximated via parallel Markov chains. The Marjov chains are not reset every gradient descent iteration, hence the *persistence*."
      ]
    },
    {
      "cell_type": "code",
      "metadata": {
        "id": "341Wc9X4e4hv",
        "colab_type": "code",
        "colab": {
          "autoexec": {
            "startup": false,
            "wait_interval": 0
          },
          "output_extras": []
        },
        "cellView": "both",
        "executionInfo": {
          "status": "ok",
          "timestamp": 1457678926649,
          "user_tz": 480,
          "elapsed": 678,
          "user": {
            "sessionId": "ab1f0339c96f28e",
            "userId": "103444865736961301998",
            "permissionId": "00759584880725894106",
            "displayName": "Patrick Mineault",
            "color": "#1FA15D",
            "isMe": true,
            "isAnonymous": false,
            "photoUrl": "//lh3.googleusercontent.com/-CdPTZM1TPbU/AAAAAAAAAAI/AAAAAAAAABQ/MOmbIGKtlQA/s50-c-k-no/photo.jpg"
          }
        },
        "outputId": "c46706a2-8ea8-476e-db70-cbff8d75c21e"
      },
      "source": [
        "%matplotlib inline\n",
        "import matplotlib.pyplot as plt"
      ],
      "outputs": [],
      "execution_count": 0
    },
    {
      "cell_type": "code",
      "metadata": {
        "id": "fHG5Ls_30x--",
        "colab_type": "code",
        "colab": {
          "autoexec": {
            "startup": false,
            "wait_interval": 0
          }
        },
        "cellView": "both"
      },
      "source": [
        "class FixedLengthPCD:\n",
        "  \"\"\"Stores a run of persistent contrastive divergence. Some features of this \n",
        "  version of PCD:\n",
        "    - Uses a sequence of etas to gradient descent for better convergence.\n",
        "    - Uses RMSProp update rule\n",
        "  \"\"\"\n",
        "  \n",
        "  def __init__(self, \n",
        "               words, \n",
        "               feature_fun,\n",
        "               S_chains = 10):\n",
        "    \"\"\"Initializes PCD on a given vocabulary.\n",
        "    \n",
        "    Args:\n",
        "      words: a list of strings, all of the same size\n",
        "      feature_fun: a function which takes a string and returns an array of \n",
        "        features\n",
        "      S_chains: the number of parallel chains to use for PCD\n",
        "    \"\"\"\n",
        "    self.words = words\n",
        "    self.feature_fun = feature_fun\n",
        "    self.S_chains = S_chains\n",
        "    \n",
        "    self.init_measurements()\n",
        "    self.init_params()\n",
        "    self.init_chains()\n",
        "  \n",
        "  def init_measurements(self):\n",
        "    \"\"\"Make some measurements on the vocabulary\"\"\"\n",
        "    max_str_len = max(len(w) for w in self.words)\n",
        "    min_str_len = min(len(w) for w in self.words)\n",
        "    if min_str_len != max_str_len:\n",
        "      raise Error('This class only works for fixed-length strings')\n",
        "      \n",
        "    # Compute the empirical distribution of tokens\n",
        "    all_chars = ''.join(self.words)\n",
        "    proposal_dist,_ = np.histogram(np.array([ord(x) for x in all_chars]),\n",
        "                                   bins=range(128))\n",
        "    proposal_dist = proposal_dist / np.float(proposal_dist.sum())  \n",
        "    \n",
        "    # Moment matching\n",
        "    X = np.array([self.feature_fun(w) for w in self.words])\n",
        "    phi_c = X.mean(0)\n",
        "    \n",
        "    self.proposal_dist = proposal_dist\n",
        "    self.str_len = min_str_len\n",
        "    self.phi_c = phi_c\n",
        "    self.n_features = phi_c.size\n",
        "  \n",
        "  def log_density_fun(self, word):\n",
        "    \"\"\"Returns the log density of a word, i.e. the inner product of the features\n",
        "    and the parameters\"\"\"\n",
        "    phi = self.feature_fun(word)\n",
        "    return phi.dot(self.theta)\n",
        "    \n",
        "  def get_new_sampler(self):\n",
        "    \"\"\"Create a sampler from current set of parameters\"\"\"\n",
        "    s = FixedLengthGMHMC(self.str_len,\n",
        "                         self.proposal_dist,\n",
        "                         self.log_density_fun)\n",
        "    s.take_first_sample()\n",
        "    return s\n",
        "    \n",
        "  def init_chains(self):\n",
        "    # Initialize MCMC chains\n",
        "    chains = []\n",
        "    for i in range(self.S_chains):\n",
        "      s = self.get_new_sampler()\n",
        "      chains.append(s)\n",
        "    self.chains = chains\n",
        "      \n",
        "  def init_params(self):\n",
        "    # Initialize parameters\n",
        "    sd = .1\n",
        "    # Alternatively, we could use a crude estimate as an initializer\n",
        "    self.theta = sd * (np.random.randn(self.n_features) / \n",
        "                       np.sqrt(self.n_features))\n",
        "\n",
        "  def run(self, \n",
        "          etas = [0.1], \n",
        "          k_steps_per = 5,\n",
        "          T = 100,\n",
        "          rms_prop_alpha = .9,\n",
        "          display_every = 1):\n",
        "    \"\"\"Run a number of persistent contrastive divergence iterations.\n",
        "    \n",
        "    Args:\n",
        "      etas: a list of learning rates to use\n",
        "      k_steps_per: the number of MCMC steps to take per gradient descent \n",
        "        iteration\n",
        "      T: the number of gradient descent iterations\n",
        "      rms_prop_alpha: the decay rate of RMSProp being used\n",
        "      \n",
        "    Returns:\n",
        "      (thetas, gnorm, likelihoods): sequences of (parameters, \n",
        "                      norm of the gradient, likelihoods)\n",
        "    \"\"\"\n",
        "    \n",
        "    # Fudge factor for RMSProp\n",
        "    ff = 0.001\n",
        "    \n",
        "    thetas = np.zeros((T, self.n_features))\n",
        "    gnorms = np.zeros((T))\n",
        "    gnorms_adjusted = np.zeros((T))\n",
        "    likes = np.zeros((T))\n",
        "    running_g = np.ones((self.n_features))\n",
        "\n",
        "    for t in range(T):\n",
        "      which_eta = (t * len(etas)) / T\n",
        "      eta = etas[which_eta]\n",
        "\n",
        "      # Sample for a few steps\n",
        "      for s in self.chains:\n",
        "        for m in range(k_steps_per):\n",
        "          s.sample()\n",
        "\n",
        "      X_ = np.array([self.feature_fun(s.last_sample) for s in self.chains])\n",
        "      \n",
        "      phi_t = X_.mean(0)\n",
        "      \n",
        "      # Gradient\n",
        "      g = self.phi_c - phi_t\n",
        "      \n",
        "      # Gradient ascent\n",
        "      # Use an RMSGrad update for more consistent convergence\n",
        "      gg = eta* (g / (ff + np.sqrt(running_g)))\n",
        "      self.theta = self.theta + gg\n",
        "      thetas[t,:] = self.theta\n",
        "      running_g = running_g*rms_prop_alpha + g**2\n",
        "      \n",
        "\n",
        "      # Monitor convergence\n",
        "      gnorms[t] = np.sqrt((g**2).sum())\n",
        "      gnorms_adjusted[t] = np.sqrt((gg**2).sum())\n",
        "                          \n",
        "      # Evaluate model likelihood\n",
        "      like = sum(np.exp(np.array(\n",
        "        [self.log_density_fun(w) for w in self.words]))) / float(len(self.words))\n",
        "      likes[t] = like\n",
        "      \n",
        "      if t % display_every == 0:      \n",
        "        print \"Iteration %04d, log likelihood = %.8f\" % (t, like)\n",
        "\n",
        "    return thetas, gnorms, gnorms_adjusted, likes   "
      ],
      "outputs": [],
      "execution_count": 0
    },
    {
      "cell_type": "code",
      "metadata": {
        "id": "TgSrXTSCnaQt",
        "colab_type": "code",
        "colab": {
          "autoexec": {
            "startup": false,
            "wait_interval": 0
          }
        },
        "cellView": "both"
      },
      "source": [
        "def sample_feature_fun(arr):\n",
        "  # Is the initial letter an uppercase letter?\n",
        "  phi0 = (arr[0] == 'A' or \n",
        "          arr[0] == 'B')\n",
        "  \n",
        "  # Does the second letter follow the first letter? e.g. 'ab'\n",
        "  phi1 = ord(arr[1]) - ord(arr[0]) == 1\n",
        "  \n",
        "  return np.array([phi0*1.0, phi1*1.0])\n",
        "\n",
        "# Draw some words\n",
        "nsamples = 1000\n",
        "keys = np.random.multinomial(nsamples, distros[:,0])\n",
        "words = ps.keys()\n",
        "vocab = list(itertools.chain(*[[words[i]]*k for i, k in enumerate(keys)]))\n",
        "\n",
        "pcd = FixedLengthPCD(vocab, \n",
        "                     sample_feature_fun,\n",
        "                     S_chains = 100)\n",
        "\n",
        "convergence = pcd.run(T = 600, \n",
        "                      etas = [.1, 0.03, .01],\n",
        "                      k_steps_per = 1,\n",
        "                      rms_prop_alpha = 0.9,\n",
        "                      display_every = 100)\n",
        "\n",
        "# Plot some indices of convergence\n",
        "plt.subplot(411)\n",
        "plt.plot(convergence[0])\n",
        "plt.title('theta')\n",
        "plt.subplot(412)\n",
        "plt.plot(convergence[1])\n",
        "plt.xlabel('Iteration')\n",
        "plt.title('||g||')\n",
        "\n",
        "plt.subplot(413)\n",
        "plt.plot(convergence[2])\n",
        "plt.xlabel('Iteration')\n",
        "plt.title('||g_a||')\n",
        "\n",
        "plt.subplot(414)\n",
        "plt.plot(convergence[3])\n",
        "plt.title('likelihood')\n",
        "\n",
        "print \"Actual parameters\"\n",
        "print np.array([1.0, 1.5])\n",
        "print \"Estimated parameters\"\n",
        "print pcd.theta\n",
        "\n",
        "samples = []\n",
        "sampler = pcd.get_new_sampler()\n",
        "    \n",
        "sampler.proposal_dist = proposal_distro\n",
        "for i in range(10000):\n",
        "  sampler.sample()\n",
        "  samples.append(sampler.last_sample)\n",
        "\n",
        "# Look at empirical distribution of samples\n",
        "cnt = collections.Counter(samples)\n",
        "\n",
        "# Concatenate the results\n",
        "distros_ = np.array([[y, cnt[x]] for x, y in ps.iteritems()])\n",
        "\n",
        "# Normalize\n",
        "distros_ = distros_ / distros_.sum(0).reshape((1,-1))\n",
        "\n",
        "print 'String | Exact p(x)*1000 | Sample p(x)*1000'\n",
        "print '\\n'.join(['%s        % 8d         % 8d' % (x, y[0], y[1]) for x, y in \n",
        "                 zip(ps.keys(), np.round(distros_*1000))])\n",
        "\n",
        "max_rel_disc = max(abs(.5 * (distros_[:,0] - distros_[:,1]) / \n",
        "                       (distros_[:,0] + distros_[:,1])))\n",
        "\n",
        "print 'Max relative discrepancy: %.3f' % max_rel_disc"
      ],
      "outputs": [],
      "execution_count": 0
    },
    {
      "cell_type": "markdown",
      "metadata": {
        "id": "Q0J83HaPnhkc",
        "colab_type": "text"
      },
      "source": [
        "# Run on real data\n",
        "\n",
        "Let's fit a toy spelling model with features like the number of each letter, whether a vowel is followed by a consonant, etc. for all the 7-letter words in the Wikipedia article on machine learning. We'll add a global feature that determines whether the word is \"machine\"."
      ]
    },
    {
      "cell_type": "code",
      "metadata": {
        "id": "IhaHvfDgngvr",
        "colab_type": "code",
        "colab": {
          "autoexec": {
            "startup": false,
            "wait_interval": 0
          },
          "output_extras": []
        },
        "cellView": "both",
        "executionInfo": {
          "status": "ok",
          "timestamp": 1457682301818,
          "user_tz": 480,
          "elapsed": 613,
          "user": {
            "sessionId": "ab1f0339c96f28e",
            "userId": "103444865736961301998",
            "permissionId": "00759584880725894106",
            "displayName": "Patrick Mineault",
            "color": "#1FA15D",
            "isMe": true,
            "isAnonymous": false,
            "photoUrl": "//lh3.googleusercontent.com/-CdPTZM1TPbU/AAAAAAAAAAI/AAAAAAAAABQ/MOmbIGKtlQA/s50-c-k-no/photo.jpg"
          }
        },
        "outputId": "6e382b17-e015-4429-a074-36e9c2670a1f"
      },
      "source": [
        "words = ['Machine', 'evolved', 'pattern', 'defined', 'machine', 'ability', 'without', 'Machine', 'operate', 'example', 'program', 'Machine', 'closely', 'related', 'focuses', 'through', 'domains', 'Machine', 'Example', 'include', 'optical', 'engines', 'vision.', 'Machine', 'focuses', 'quoted,', 'program', 'respect', 'measure', 'notable', 'machine', 'think?\"', 'do?\"[9]', 'Machine', 'system.', 'are[10]', 'example', 'desired', 'general', 'leaving', 'towards', 'program', 'dynamic', 'perform', 'certain', 'driving', 'without', 'teacher', 'telling', 'whether', 'Another', 'example', 'playing', 'against', 'Between', 'teacher', 'signal:', 'outputs', 'special', 'problem', 'targets', 'support', 'machine', 'divides', 'learned', 'machine', 'acquire', 'through', 'Another', 'machine', 'desired', 'divided', 'learner', 'produce', 'assigns', 'tackled', 'example', 'classes', 'outputs', 'divided', 'groups.', 'Density', 'mapping', 'related', 'program', 'similar', 'topics.', 'History', 'machine', 'Already', 'problem', 'various', '\"neural', 'medical', 'between', 'machine', 'systems', 'plagued', 'systems', 'leading', 'outside', 'proper,', 'pattern', 'science', 'outside', 'Hinton.', 'success', 'Machine', 'started', 'changed', 'nature.', 'shifted', 'methods', 'Machine', 'methods', 'overlap', 'roughly', 'Machine', 'focuses', 'learned', 'focuses', 'unknown', 'overlap', 'machine', 'machine', 'employs', 'methods', 'improve', 'learner', 'between', 'machine', 'usually', 'respect', 'ability', 'unknown', 'respect', 'typical', 'methods', 'Machine', 'express', 'between', 'trained', 'problem', 'trained', 'predict', 'between', 'machine', 'Machine', 'closely', 'related', 'fields.', 'Michael', 'Jordan,', 'machine', 'science', 'overall', 'Breiman', 'wherein', 'machine', 'forest.', 'adopted', 'methods', 'machine', 'leading', 'learner', 'context', 'ability', 'machine', 'perform', 'unknown', 'learner', 'general', 'enables', 'produce', 'machine', 'science', 'theory.', 'Because', 'usually', 'common.', 'trained', 'unknown', 'complex', 'complex', 'minimum', 'bounds,', 'theory,', 'results', 'certain', 'learned', 'results', 'certain', 'classes', 'learned', 'between', 'machine', 'machine', 'between', 'network', 'network', 'usually', '\"neural', 'aspects', 'usually', 'complex', 'between', 'capture', 'unknown', 'between', 'uniform', 'logical', 'program', 'entails', 'related', 'Support', 'Support', 'Support', 'related', 'methods', 'whether', 'example', 'Cluster', 'Cluster', 'subsets', '(called', 'cluster', 'similar', 'defined', 'example', 'between', 'members', 'between', 'methods', 'density', 'network', 'network', 'acyclic', 'acyclic', 'network', 'between', 'network', 'compute', 'various', 'perform', 'actions', 'reward.', 'attempt', 'actions', 'states.', 'differs', 'problem', 'correct', 'actions', 'Several', 'include', 'cluster', 'attempt', 'useful,', 'unknown', 'attempt', 'learned', 'attempt', 'learned', 'zeros).', 'without', 'defined', 'machine', 'factors', 'explain', 'machine', 'similar', 'similar', 'predict', 'objects', 'method,', 'assumed', 'sparse.', 'matrix,', 'solving', 'sparse.', 'assumed', 'freedom', 'NP-hard', 'popular', 'applied', 'several', 'problem', 'classes', 'belongs', 'Suppose', 'already', 'applied', 'Genetic', 'Genetic', 'genetic', 'process', 'natural', 'methods', 'finding', 'machine', 'genetic', 'machine', 'improve', 'genetic', 'machine', 'finance', 'vision,', 'Machine', 'Medical', 'Natural', 'systems', 'engines', 'opinion', 'mining)', 'pattern', 'Finance', 'company', 'Netflix', 'program', 'predict', 'improve', 'Shortly', 'Netflix', 'ratings', 'viewing', 'changed', 'Journal', 'machine', 'predict', 'article', 'machine', 'applied', 'History', 'between']"
      ],
      "outputs": [],
      "execution_count": 0
    },
    {
      "cell_type": "code",
      "metadata": {
        "id": "MhZd2CNuoM2Y",
        "colab_type": "code",
        "colab": {
          "autoexec": {
            "startup": false,
            "wait_interval": 0
          },
          "output_extras": [
            {
              "item_id": 11
            },
            {
              "item_id": 12
            }
          ]
        },
        "cellView": "both",
        "executionInfo": {
          "status": "ok",
          "timestamp": 1457683062754,
          "user_tz": 480,
          "elapsed": 65860,
          "user": {
            "sessionId": "ab1f0339c96f28e",
            "userId": "103444865736961301998",
            "permissionId": "00759584880725894106",
            "displayName": "Patrick Mineault",
            "color": "#1FA15D",
            "isMe": true,
            "isAnonymous": false,
            "photoUrl": "//lh3.googleusercontent.com/-CdPTZM1TPbU/AAAAAAAAAAI/AAAAAAAAABQ/MOmbIGKtlQA/s50-c-k-no/photo.jpg"
          }
        },
        "outputId": "b07e7071-4f46-4f99-ee06-243c833b911e"
      },
      "source": [
        "def compute_features(word):\n",
        "  \n",
        "  phis = []\n",
        "  # Check whether the first letter is uppercase\n",
        "  phis.append(1*(word[0] >= 'A' and word[0] <= 'Z'))\n",
        "  \n",
        "  # Check whether the other letters are uppercase\n",
        "  phis.append(sum(l >= ord('A') and l <= ord('Z') for l in word[1:]))\n",
        "  \n",
        "  # Check whether vowels are followed by consonants\n",
        "  vowels = 'aeiou'\n",
        "  \n",
        "  letters = ('abcdefghijklmnopqrstuvwxyz'\n",
        "             'ABCDEFGHIJKLMNOPQRSTUVWXYZ')\n",
        "    \n",
        "  phis.append(sum(x in letters and x not in vowels and y in vowels for x,y in \n",
        "                  zip(word[:-1], word[1:])))\n",
        "\n",
        "  # Check the number of symbols\n",
        "  phis.append(sum(x not in letters for x in word))\n",
        "  \n",
        "  # The number of each letter \n",
        "  phis += [sum(x == y for x in word) for y in letters]\n",
        "  \n",
        "  # And whether the word is machine (to add a global feature)\n",
        "  phis.append(word == 'machine' or word == 'Machine')\n",
        "  \n",
        "  return np.array(phis)\n",
        "\n",
        "# Draw some words\n",
        "pcd = FixedLengthPCD(words, \n",
        "                     compute_features,\n",
        "                     S_chains = 100)\n",
        "\n",
        "convergence = pcd.run(T = 1000, \n",
        "                      etas = [.1, 0.03, .01],\n",
        "                      k_steps_per = 1,\n",
        "                      rms_prop_alpha = 0.9,\n",
        "                      display_every = 100)\n",
        "\n",
        "# Plot some indices of convergence\n",
        "plt.subplot(411)\n",
        "plt.plot(convergence[0])\n",
        "plt.title('theta')\n",
        "plt.subplot(412)\n",
        "plt.plot(convergence[1])\n",
        "plt.xlabel('Iteration')\n",
        "plt.title('||g||')\n",
        "\n",
        "plt.subplot(413)\n",
        "plt.plot(convergence[2])\n",
        "plt.xlabel('Iteration')\n",
        "plt.title('||g_a||')\n",
        "\n",
        "plt.subplot(414)\n",
        "plt.plot(convergence[3])\n",
        "plt.title('likelihood')\n",
        "\n",
        "print \"Estimated parameters\"\n",
        "print pcd.theta\n"
      ],
      "outputs": [
        {
          "output_type": "stream",
          "text": [
            "Iteration 0000, log likelihood = 1.20084818\n",
            "Iteration 0100, log likelihood = 12494850.38926714\n",
            "Iteration 0200, log likelihood = 2762440748.43619156\n",
            "Iteration 0300, log likelihood = 50845303416.27217102\n",
            "Iteration 0400, log likelihood = 2190501833230.38696289\n",
            "Iteration 0500, log likelihood = 4276988176134.80468750\n",
            "Iteration 0600, log likelihood = 11247602689282.73437500\n",
            "Iteration 0700, log likelihood = 25981700574598.57031250\n",
            "Iteration 0800, log likelihood = 24467063671332.46093750\n",
            "Iteration 0900, log likelihood = 32817339298285.48437500\n",
            "Estimated parameters\n",
            "[  3.35791760e+00   1.83633295e-02   1.95713117e+00  -1.02220839e+00\n",
            "   1.99813306e+00   6.06049274e-01   2.19943471e+00   2.00876385e+00\n",
            "   2.60486341e+00   4.57186511e-01   1.10098610e+00   1.58116821e+00\n",
            "   1.86626637e+00  -2.49000326e+00   1.21867005e-01   2.11907471e+00\n",
            "   1.95922081e+00   2.51286906e+00   1.52986826e+00   1.74849790e+00\n",
            "  -1.62980114e+00   2.44229185e+00   2.21451871e+00   2.44444045e+00\n",
            "   1.04837968e+00   2.80821176e-01   8.65999568e-01   1.55036043e-01\n",
            "   9.38534493e-01  -2.08448326e+00  -3.64286502e+00  -3.31481477e+00\n",
            "  -3.26019284e+00  -4.66082320e+00  -3.71480812e+00  -3.18516343e+00\n",
            "  -4.16325253e+00  -3.86595672e+00  -1.40366120e-03  -3.42084374e+00\n",
            "  -2.48984540e-03   1.15546348e-02  -2.01891457e+00  -3.06088033e+00\n",
            "  -2.34202229e-03  -4.01397783e+00   1.22163070e-02  -1.67549149e-02\n",
            "  -2.01315696e+00  -7.38599497e-03   1.47584718e-02   1.64015462e-02\n",
            "   1.04174271e-02  -3.67685204e-03  -2.68521826e-03   6.47515500e-04\n",
            "   1.41110097e+01]\n"
          ],
          "name": "stdout"
        },
        {
          "output_type": "display_data",
          "metadata": {},
          "data": {
            "image/png": "[encoded data removed]",
            "text/plain": [
              "<matplotlib.figure.Figure at 0x979e4d0>"
            ]
          }
        }
      ],
      "execution_count": 0
    },
    {
      "cell_type": "code",
      "metadata": {
        "id": "mCQCiqgcq6RC",
        "colab_type": "code",
        "colab": {
          "autoexec": {
            "startup": false,
            "wait_interval": 0
          },
          "output_extras": [
            {
              "item_id": 1
            },
            {
              "item_id": 2
            }
          ]
        },
        "cellView": "both",
        "executionInfo": {
          "status": "ok",
          "timestamp": 1457683148314,
          "user_tz": 480,
          "elapsed": 2245,
          "user": {
            "sessionId": "ab1f0339c96f28e",
            "userId": "103444865736961301998",
            "permissionId": "00759584880725894106",
            "displayName": "Patrick Mineault",
            "color": "#1FA15D",
            "isMe": true,
            "isAnonymous": false,
            "photoUrl": "//lh3.googleusercontent.com/-CdPTZM1TPbU/AAAAAAAAAAI/AAAAAAAAABQ/MOmbIGKtlQA/s50-c-k-no/photo.jpg"
          }
        },
        "outputId": "78717327-bc04-4597-c2a7-27b4ef3812e4"
      },
      "source": [
        "samples = []\n",
        "sampler = pcd.get_new_sampler()\n",
        "    \n",
        "for i in range(10000):\n",
        "  sampler.sample()\n",
        "  samples.append(sampler.last_sample)\n",
        "\n",
        "print \"Some samples:\"\n",
        "samples[::100]"
      ],
      "outputs": [
        {
          "output_type": "stream",
          "text": [
            "Some samples:\n"
          ],
          "name": "stdout"
        },
        {
          "output_type": "execute_result",
          "execution_count": 191,
          "metadata": {},
          "data": {
            "text/plain": [
              "['gotrobt',\n",
              " 'ntrrirs',\n",
              " 'aldarac',\n",
              " 'rntHcbr',\n",
              " 'sumenCs',\n",
              " 'umorego',\n",
              " 'elihgah',\n",
              " 'catccin',\n",
              " 'rirucab',\n",
              " 'gnilvlm',\n",
              " 'hodeehb',\n",
              " 'osupiag',\n",
              " 'tedralh',\n",
              " 'rorwemr',\n",
              " 'Mhmnsru',\n",
              " 'ricdpin',\n",
              " 'lereeno',\n",
              " 'N,mbndo',\n",
              " 'rNanivu',\n",
              " 'nitpitn',\n",
              " 'tarmNau',\n",
              " 'ensgfen',\n",
              " 'ramsake',\n",
              " 'Stpanri',\n",
              " 'rrsenor',\n",
              " 'cntaett',\n",
              " 'Abenecd',\n",
              " 'papiloc',\n",
              " 'fuiyeob',\n",
              " 'pfrmnet',\n",
              " 'tresehi',\n",
              " 'ealutsr',\n",
              " 'naeqsnn',\n",
              " 'eeemcnn',\n",
              " 'titrole',\n",
              " 'Sedulam',\n",
              " 'irorige',\n",
              " 'lccsapi',\n",
              " 'fbisere',\n",
              " 'dlnlexa',\n",
              " 'gedwena',\n",
              " 'holttad',\n",
              " 'scoinos',\n",
              " 'stnyepl',\n",
              " '(anisdu',\n",
              " 'bbneye(',\n",
              " 'uohsgcn',\n",
              " 'mineftl',\n",
              " 'yaintso',\n",
              " 'SenatAt',\n",
              " 'hlatunl',\n",
              " 'ylica:i',\n",
              " ')diliyi',\n",
              " 'ricaene',\n",
              " 'egeceme',\n",
              " 'ceciesa',\n",
              " 'nudrtch',\n",
              " 'lchinhl',\n",
              " 'lradiar',\n",
              " 'nelsmef',\n",
              " '[legate',\n",
              " 'yinoroe',\n",
              " '0ieceti',\n",
              " 'nexatis',\n",
              " 'damita,',\n",
              " 'legnmae',\n",
              " 'nlihhrb',\n",
              " 'mucrnin',\n",
              " 'cmnpena',\n",
              " 'wetdebe',\n",
              " 'celcekm',\n",
              " 'dertime',\n",
              " 'pirlhif',\n",
              " 'cilhini',\n",
              " 'ghtrcir',\n",
              " 'Helrons',\n",
              " 'gritmda',\n",
              " 'thdemer',\n",
              " 'busathi',\n",
              " 'epemcei',\n",
              " 'ierokrs',\n",
              " 'Ghmipac',\n",
              " 'sairoau',\n",
              " 'xfe\"dib',\n",
              " 'nibedei',\n",
              " 'pirsgia',\n",
              " 'toudtey',\n",
              " 'r,cpenn',\n",
              " '-geltou',\n",
              " 'Svqlour',\n",
              " 'nlpruun',\n",
              " 'Pirecec',\n",
              " 'tibenam',\n",
              " 'eshohoi',\n",
              " 'teeripc',\n",
              " 'tnesitf',\n",
              " 'lutedar',\n",
              " 'lesuflt',\n",
              " 'flye?te',\n",
              " 'gceyese']"
            ]
          }
        }
      ],
      "execution_count": 0
    },
    {
      "cell_type": "code",
      "metadata": {
        "id": "Lb4NjJ7Er5Yq",
        "colab_type": "code",
        "colab": {
          "autoexec": {
            "startup": false,
            "wait_interval": 0
          },
          "output_extras": [
            {
              "item_id": 1
            }
          ]
        },
        "cellView": "both",
        "executionInfo": {
          "status": "ok",
          "timestamp": 1457683466941,
          "user_tz": 480,
          "elapsed": 628,
          "user": {
            "sessionId": "ab1f0339c96f28e",
            "userId": "103444865736961301998",
            "permissionId": "00759584880725894106",
            "displayName": "Patrick Mineault",
            "color": "#1FA15D",
            "isMe": true,
            "isAnonymous": false,
            "photoUrl": "//lh3.googleusercontent.com/-CdPTZM1TPbU/AAAAAAAAAAI/AAAAAAAAABQ/MOmbIGKtlQA/s50-c-k-no/photo.jpg"
          }
        },
        "outputId": "5d45a1ae-a58e-446b-ae3c-c9681c7cf310"
      },
      "source": [
        "print 'Most likely word'\n",
        "print max([(sampler.log_density_fun(x),x) for x in words])\n",
        "print 'log-likelihod of machine versus machina:'\n",
        "print (sampler.log_density_fun('machine'),\n",
        "       sampler.log_density_fun('machina'))\n",
        "print 'Number of machine samples out of 10000:'\n",
        "print(sum(x == 'machine' for x in samples))\n",
        "print \"Weight for word 'machine'\"\n",
        "print pcd.theta[-1]"
      ],
      "outputs": [
        {
          "output_type": "stream",
          "text": [
            "Most likely word\n",
            "(34.704358830698958, 'machine')\n",
            "log-likelihod of machine versus machina:\n",
            "(34.704358830698958, 19.98661878108004)\n",
            "Number of machine samples out of 10000:\n",
            "0\n",
            "Weight for word 'machine'\n",
            "14.1110096977\n"
          ],
          "name": "stdout"
        }
      ],
      "execution_count": 0
    },
    {
      "cell_type": "markdown",
      "metadata": {
        "id": "343ONLiisUZl",
        "colab_type": "text"
      },
      "source": [
        "What's interesting is that the model has learned that machine is by far the most likely word -- it's given a huge weight of 14 to the corresponding feature -- but the sampler didn't find it once in 10k samples! If the chain ever stumbled onto the word machine, it would have a 1 in exp(14) chance of getting unstuck! The weight for the word machine is much too large, and this is because the chains don't mix well enough to find such a global feature. We have to be careful about blindly implementing global features then!"
      ]
    }
  ]
}